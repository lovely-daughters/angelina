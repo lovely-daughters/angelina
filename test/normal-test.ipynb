{
 "cells": [
  {
   "cell_type": "code",
   "execution_count": 45,
   "metadata": {},
   "outputs": [],
   "source": [
    "from selenium import webdriver\n",
    "from selenium.webdriver.chrome.service import Service"
   ]
  },
  {
   "cell_type": "code",
   "execution_count": 46,
   "metadata": {},
   "outputs": [],
   "source": [
    "options = webdriver.ChromeOptions()\n",
    "options.debugger_address = \"localhost:9222\"\n",
    "driver = webdriver.Chrome(options=options)"
   ]
  },
  {
   "cell_type": "code",
   "execution_count": 47,
   "metadata": {},
   "outputs": [
    {
     "data": {
      "text/plain": [
       "['9F5807CEDA4A076D116B1E11F78D9E8B',\n",
       " '777A985A7348959C2FC137281017626E',\n",
       " '2F5BC886AFA77DC5CA472BBA352FFDDB',\n",
       " 'F84E8AD0715F7F7DB9715E72725E5A04']"
      ]
     },
     "execution_count": 47,
     "metadata": {},
     "output_type": "execute_result"
    }
   ],
   "source": [
    "tabs = driver.window_handles\n",
    "tabs"
   ]
  },
  {
   "cell_type": "code",
   "execution_count": 41,
   "metadata": {},
   "outputs": [],
   "source": [
    "driver.switch_to.window(driver.window_handles[1])"
   ]
  },
  {
   "cell_type": "code",
   "execution_count": 42,
   "metadata": {},
   "outputs": [
    {
     "data": {
      "text/plain": [
       "{}"
      ]
     },
     "execution_count": 42,
     "metadata": {},
     "output_type": "execute_result"
    }
   ],
   "source": [
    "script = \"\"\"\n",
    "// asdf\n",
    "function f1(thing) {\n",
    "    console.log(thing)\n",
    "}\n",
    "\"\"\"\n",
    "driver.execute_script(f\"return ({script})\")"
   ]
  },
  {
   "cell_type": "code",
   "execution_count": 43,
   "metadata": {},
   "outputs": [],
   "source": [
    "driver.execute_script(\"document.title\")"
   ]
  },
  {
   "cell_type": "code",
   "execution_count": 53,
   "metadata": {},
   "outputs": [
    {
     "name": "stdout",
     "output_type": "stream",
     "text": [
      "{'attached': False, 'browserContextId': 'FEAD8DE26394408085E336266FE98752', 'canAccessOpener': False, 'targetId': 'C012D048F650A9709A73D8719E6CE5E2', 'title': 'github-socket-worker-v2-e61afc91fff0bfc39efe214bdbc877585048dc06527d82a446d5a5e583e9300a', 'type': 'shared_worker', 'url': 'https://github.com/assets-cdn/worker/socket-worker-71e98f781d79.js'}\n",
      "{'attached': True, 'browserContextId': 'FEAD8DE26394408085E336266FE98752', 'canAccessOpener': False, 'targetId': 'A889978D7A6291D0463025F79167DDF8', 'title': 'Service Worker https://twitter.com/sw.js', 'type': 'service_worker', 'url': 'https://twitter.com/sw.js'}\n",
      "{'attached': False, 'browserContextId': 'FEAD8DE26394408085E336266FE98752', 'canAccessOpener': False, 'targetId': '64CFCAC6678E83965D8CDC757F394436', 'title': 'Service Worker chrome-extension://fmkadmapgofadopljbjfkapdkoienihi/build/background.js', 'type': 'service_worker', 'url': 'chrome-extension://fmkadmapgofadopljbjfkapdkoienihi/build/background.js'}\n",
      "{'attached': True, 'browserContextId': 'FEAD8DE26394408085E336266FE98752', 'canAccessOpener': False, 'targetId': 'A83253D7AA2D0ADD6E9C7D7CB71BCCDD', 'title': 'Service Worker https://www.youtube.com/sw.js', 'type': 'service_worker', 'url': 'https://www.youtube.com/sw.js'}\n",
      "{'attached': False, 'browserContextId': 'FEAD8DE26394408085E336266FE98752', 'canAccessOpener': False, 'targetId': 'F57E08EA925F0D90CBAF2774A6765435', 'title': 'Service Worker chrome-extension://kbfnbcaeplbcioakkpcpgfkobkghlhen/sw.js', 'type': 'service_worker', 'url': 'chrome-extension://kbfnbcaeplbcioakkpcpgfkobkghlhen/sw.js'}\n",
      "{'attached': False, 'browserContextId': 'FEAD8DE26394408085E336266FE98752', 'canAccessOpener': False, 'targetId': 'E2FEC765571760D4830BCC354648A540', 'title': 'Service Worker chrome-extension://bmnlcjabgnpnenekpadlanbbkooimhnj/h0.js', 'type': 'service_worker', 'url': 'chrome-extension://bmnlcjabgnpnenekpadlanbbkooimhnj/h0.js'}\n",
      "{'attached': False, 'browserContextId': 'FEAD8DE26394408085E336266FE98752', 'canAccessOpener': False, 'targetId': '8EC8498A1ED1E75E4134B4023ED1CAD5', 'title': 'Privacy Badger', 'type': 'background_page', 'url': 'chrome-extension://pkehgijcmpdhfbdbbnkijodmdjhbjlgp/background.html'}\n",
      "{'attached': False, 'browserContextId': 'FEAD8DE26394408085E336266FE98752', 'canAccessOpener': False, 'targetId': '3D2198FBAD98E0FC653069FA76C4B93F', 'title': 'Google', 'type': 'page', 'url': 'https://www.google.com/'}\n",
      "{'attached': False, 'browserContextId': 'FEAD8DE26394408085E336266FE98752', 'canAccessOpener': False, 'targetId': '3204CCFC2F4947D63FDC4CDAA37D8118', 'title': 'https://accounts.google.com/RotateCookiesPage?og_pid=538&rot=3&origin=https%3A%2F%2Fwww.google.com', 'type': 'iframe', 'url': 'https://accounts.google.com/RotateCookiesPage?og_pid=538&rot=3&origin=https%3A%2F%2Fwww.google.com'}\n",
      "{'attached': True, 'browserContextId': 'FEAD8DE26394408085E336266FE98752', 'canAccessOpener': False, 'targetId': '9F5807CEDA4A076D116B1E11F78D9E8B', 'title': 'Chrome DevTools Protocol - Target domain', 'type': 'page', 'url': 'https://chromedevtools.github.io/devtools-protocol/tot/Target/#method-attachToTarget'}\n",
      "{'attached': True, 'browserContextId': 'FEAD8DE26394408085E336266FE98752', 'canAccessOpener': False, 'targetId': '777A985A7348959C2FC137281017626E', 'title': 'angelina/kernel.py at master · oetia/angelina · GitHub', 'type': 'page', 'url': 'https://github.com/oetia/angelina/blob/master/angelina_kernel/kernel.py'}\n",
      "{'attached': False, 'browserContextId': 'FEAD8DE26394408085E336266FE98752', 'canAccessOpener': False, 'targetId': '7DADEADB37356F5809DDEE253261BD7C', 'title': 'Dark Reader', 'type': 'background_page', 'url': 'chrome-extension://eimadpbcbfnmbkopoojfekhnkhdbieeh/background/index.html'}\n",
      "{'attached': False, 'browserContextId': 'FEAD8DE26394408085E336266FE98752', 'canAccessOpener': False, 'targetId': 'CD0F655AFE9B882435AE8EDE913F8BDF', 'title': 'DevTools - twitter.com/home', 'type': 'other', 'url': 'devtools://devtools/bundled/devtools_app.html?remoteBase=https://chrome-devtools-frontend.appspot.com/serve_file/@c541687b21a73452ab403e2dced7033ddc97ee9d/&can_dock=true&panel=elements&targetType=tab'}\n",
      "{'attached': False, 'browserContextId': 'FEAD8DE26394408085E336266FE98752', 'canAccessOpener': False, 'targetId': '8223D3771272945440710C6B7DA53F1D', 'title': 'chrome-extension://fmkadmapgofadopljbjfkapdkoienihi/main.html', 'type': 'iframe', 'url': 'chrome-extension://fmkadmapgofadopljbjfkapdkoienihi/main.html'}\n",
      "{'attached': False, 'browserContextId': 'FEAD8DE26394408085E336266FE98752', 'canAccessOpener': False, 'targetId': '223E2CAEF28E287884E77AD2C51FEECC', 'title': 'chrome-extension://lmhkpmbekcpmknklioeibfkpmmfibljd/devtools.html', 'type': 'iframe', 'url': 'chrome-extension://lmhkpmbekcpmknklioeibfkpmmfibljd/devtools.html'}\n",
      "{'attached': True, 'browserContextId': 'FEAD8DE26394408085E336266FE98752', 'canAccessOpener': False, 'targetId': '2F5BC886AFA77DC5CA472BBA352FFDDB', 'title': 'Stitches (nightcore) - YouTube', 'type': 'page', 'url': 'https://www.youtube.com/watch?v=5p9TLQVuqGQ&list=OLAK5uy_nkMBggNx3YxlugEmwvWa_B81XC7AE3R_0&index=8'}\n",
      "{'attached': False, 'browserContextId': 'FEAD8DE26394408085E336266FE98752', 'canAccessOpener': False, 'targetId': '86188D8FDCF6A8F6BF7C4F46B6B9B478', 'title': 'Image Search Options', 'type': 'background_page', 'url': 'chrome-extension://kljmejbpilkadikecejccebmccagifhl/_generated_background_page.html'}\n",
      "{'attached': False, 'browserContextId': 'FEAD8DE26394408085E336266FE98752', 'canAccessOpener': False, 'targetId': '9B0DCC088681D828C6C97C84DE700294', 'title': 'uBlock Origin', 'type': 'background_page', 'url': 'chrome-extension://cjpalhdlnbpafiamejdnhcphjbkeiagm/background.html'}\n",
      "{'attached': True, 'browserContextId': 'FEAD8DE26394408085E336266FE98752', 'canAccessOpener': False, 'targetId': 'F84E8AD0715F7F7DB9715E72725E5A04', 'title': '(2) 主页 / Twitter', 'type': 'page', 'url': 'https://twitter.com/home'}\n",
      "{'attached': False, 'browserContextId': 'FEAD8DE26394408085E336266FE98752', 'canAccessOpener': False, 'targetId': '42679A285966232CB701B50285F0AA1B', 'title': 'Reddit Enhancement Suite', 'type': 'background_page', 'url': 'chrome-extension://kbmfpngjjgdllneeigpgjifpgocmfgmb/_generated_background_page.html'}\n",
      "{'attached': False, 'browserContextId': 'FEAD8DE26394408085E336266FE98752', 'canAccessOpener': False, 'targetId': '4F17269B27BAE53EEA8668B4B7C9DCF4', 'title': 'Tampermonkey', 'type': 'background_page', 'url': 'chrome-extension://dhdgffkkebhmkfjojejmpbldmpobfkfo/background.html'}\n"
     ]
    }
   ],
   "source": [
    "# Get the target list\n",
    "targets = driver.execute_cdp_cmd('Target.getTargets', {})\n",
    "\n",
    "for target in targets[\"targetInfos\"]:\n",
    "    print(target)\n",
    "    # if target[\"attached\"]:\n",
    "        # print(target)\n"
   ]
  },
  {
   "cell_type": "code",
   "execution_count": 54,
   "metadata": {},
   "outputs": [
    {
     "ename": "KeyboardInterrupt",
     "evalue": "",
     "output_type": "error",
     "traceback": [
      "\u001b[0;31m---------------------------------------------------------------------------\u001b[0m",
      "\u001b[0;31mKeyboardInterrupt\u001b[0m                         Traceback (most recent call last)",
      "Cell \u001b[0;32mIn[54], line 3\u001b[0m\n\u001b[1;32m      1\u001b[0m \u001b[39m# Attach to the first target\u001b[39;00m\n\u001b[1;32m      2\u001b[0m target_id \u001b[39m=\u001b[39m \u001b[39m\"\u001b[39m\u001b[39m3D2198FBAD98E0FC653069FA76C4B93F\u001b[39m\u001b[39m\"\u001b[39m\n\u001b[0;32m----> 3\u001b[0m session_id \u001b[39m=\u001b[39m driver\u001b[39m.\u001b[39;49mexecute_cdp_cmd(\u001b[39m'\u001b[39;49m\u001b[39mTarget.attachToTarget\u001b[39;49m\u001b[39m'\u001b[39;49m, {\u001b[39m'\u001b[39;49m\u001b[39mtargetId\u001b[39;49m\u001b[39m'\u001b[39;49m: target_id})\n\u001b[1;32m      4\u001b[0m session_id\n",
      "File \u001b[0;32m~/.pyenv/versions/dsc80_39/lib/python3.8/site-packages/selenium/webdriver/chromium/webdriver.py:186\u001b[0m, in \u001b[0;36mChromiumDriver.execute_cdp_cmd\u001b[0;34m(self, cmd, cmd_args)\u001b[0m\n\u001b[1;32m    169\u001b[0m \u001b[39mdef\u001b[39;00m \u001b[39mexecute_cdp_cmd\u001b[39m(\u001b[39mself\u001b[39m, cmd: \u001b[39mstr\u001b[39m, cmd_args: \u001b[39mdict\u001b[39m):\n\u001b[1;32m    170\u001b[0m \u001b[39m    \u001b[39m\u001b[39m\"\"\"Execute Chrome Devtools Protocol command and get returned result The\u001b[39;00m\n\u001b[1;32m    171\u001b[0m \u001b[39m    command and command args should follow chrome devtools protocol\u001b[39;00m\n\u001b[1;32m    172\u001b[0m \u001b[39m    domains/commands, refer to link\u001b[39;00m\n\u001b[0;32m   (...)\u001b[0m\n\u001b[1;32m    184\u001b[0m \u001b[39m        {'base64Encoded': False, 'body': 'response body string'}\u001b[39;00m\n\u001b[1;32m    185\u001b[0m \u001b[39m    \"\"\"\u001b[39;00m\n\u001b[0;32m--> 186\u001b[0m     \u001b[39mreturn\u001b[39;00m \u001b[39mself\u001b[39;49m\u001b[39m.\u001b[39;49mexecute(\u001b[39m\"\u001b[39;49m\u001b[39mexecuteCdpCommand\u001b[39;49m\u001b[39m\"\u001b[39;49m, {\u001b[39m\"\u001b[39;49m\u001b[39mcmd\u001b[39;49m\u001b[39m\"\u001b[39;49m: cmd, \u001b[39m\"\u001b[39;49m\u001b[39mparams\u001b[39;49m\u001b[39m\"\u001b[39;49m: cmd_args})[\u001b[39m\"\u001b[39m\u001b[39mvalue\u001b[39m\u001b[39m\"\u001b[39m]\n",
      "File \u001b[0;32m~/.pyenv/versions/dsc80_39/lib/python3.8/site-packages/selenium/webdriver/remote/webdriver.py:438\u001b[0m, in \u001b[0;36mWebDriver.execute\u001b[0;34m(self, driver_command, params)\u001b[0m\n\u001b[1;32m    435\u001b[0m     \u001b[39melif\u001b[39;00m \u001b[39m\"\u001b[39m\u001b[39msessionId\u001b[39m\u001b[39m\"\u001b[39m \u001b[39mnot\u001b[39;00m \u001b[39min\u001b[39;00m params:\n\u001b[1;32m    436\u001b[0m         params[\u001b[39m\"\u001b[39m\u001b[39msessionId\u001b[39m\u001b[39m\"\u001b[39m] \u001b[39m=\u001b[39m \u001b[39mself\u001b[39m\u001b[39m.\u001b[39msession_id\n\u001b[0;32m--> 438\u001b[0m response \u001b[39m=\u001b[39m \u001b[39mself\u001b[39;49m\u001b[39m.\u001b[39;49mcommand_executor\u001b[39m.\u001b[39;49mexecute(driver_command, params)\n\u001b[1;32m    439\u001b[0m \u001b[39mif\u001b[39;00m response:\n\u001b[1;32m    440\u001b[0m     \u001b[39mself\u001b[39m\u001b[39m.\u001b[39merror_handler\u001b[39m.\u001b[39mcheck_response(response)\n",
      "File \u001b[0;32m~/.pyenv/versions/dsc80_39/lib/python3.8/site-packages/selenium/webdriver/remote/remote_connection.py:290\u001b[0m, in \u001b[0;36mRemoteConnection.execute\u001b[0;34m(self, command, params)\u001b[0m\n\u001b[1;32m    288\u001b[0m data \u001b[39m=\u001b[39m utils\u001b[39m.\u001b[39mdump_json(params)\n\u001b[1;32m    289\u001b[0m url \u001b[39m=\u001b[39m \u001b[39mf\u001b[39m\u001b[39m\"\u001b[39m\u001b[39m{\u001b[39;00m\u001b[39mself\u001b[39m\u001b[39m.\u001b[39m_url\u001b[39m}\u001b[39;00m\u001b[39m{\u001b[39;00mpath\u001b[39m}\u001b[39;00m\u001b[39m\"\u001b[39m\n\u001b[0;32m--> 290\u001b[0m \u001b[39mreturn\u001b[39;00m \u001b[39mself\u001b[39;49m\u001b[39m.\u001b[39;49m_request(command_info[\u001b[39m0\u001b[39;49m], url, body\u001b[39m=\u001b[39;49mdata)\n",
      "File \u001b[0;32m~/.pyenv/versions/dsc80_39/lib/python3.8/site-packages/selenium/webdriver/remote/remote_connection.py:311\u001b[0m, in \u001b[0;36mRemoteConnection._request\u001b[0;34m(self, method, url, body)\u001b[0m\n\u001b[1;32m    308\u001b[0m     body \u001b[39m=\u001b[39m \u001b[39mNone\u001b[39;00m\n\u001b[1;32m    310\u001b[0m \u001b[39mif\u001b[39;00m \u001b[39mself\u001b[39m\u001b[39m.\u001b[39mkeep_alive:\n\u001b[0;32m--> 311\u001b[0m     response \u001b[39m=\u001b[39m \u001b[39mself\u001b[39;49m\u001b[39m.\u001b[39;49m_conn\u001b[39m.\u001b[39;49mrequest(method, url, body\u001b[39m=\u001b[39;49mbody, headers\u001b[39m=\u001b[39;49mheaders)\n\u001b[1;32m    312\u001b[0m     statuscode \u001b[39m=\u001b[39m response\u001b[39m.\u001b[39mstatus\n\u001b[1;32m    313\u001b[0m \u001b[39melse\u001b[39;00m:\n",
      "File \u001b[0;32m~/.pyenv/versions/dsc80_39/lib/python3.8/site-packages/urllib3/request.py:78\u001b[0m, in \u001b[0;36mRequestMethods.request\u001b[0;34m(self, method, url, fields, headers, **urlopen_kw)\u001b[0m\n\u001b[1;32m     74\u001b[0m     \u001b[39mreturn\u001b[39;00m \u001b[39mself\u001b[39m\u001b[39m.\u001b[39mrequest_encode_url(\n\u001b[1;32m     75\u001b[0m         method, url, fields\u001b[39m=\u001b[39mfields, headers\u001b[39m=\u001b[39mheaders, \u001b[39m*\u001b[39m\u001b[39m*\u001b[39murlopen_kw\n\u001b[1;32m     76\u001b[0m     )\n\u001b[1;32m     77\u001b[0m \u001b[39melse\u001b[39;00m:\n\u001b[0;32m---> 78\u001b[0m     \u001b[39mreturn\u001b[39;00m \u001b[39mself\u001b[39;49m\u001b[39m.\u001b[39;49mrequest_encode_body(\n\u001b[1;32m     79\u001b[0m         method, url, fields\u001b[39m=\u001b[39;49mfields, headers\u001b[39m=\u001b[39;49mheaders, \u001b[39m*\u001b[39;49m\u001b[39m*\u001b[39;49murlopen_kw\n\u001b[1;32m     80\u001b[0m     )\n",
      "File \u001b[0;32m~/.pyenv/versions/dsc80_39/lib/python3.8/site-packages/urllib3/request.py:170\u001b[0m, in \u001b[0;36mRequestMethods.request_encode_body\u001b[0;34m(self, method, url, fields, headers, encode_multipart, multipart_boundary, **urlopen_kw)\u001b[0m\n\u001b[1;32m    167\u001b[0m extra_kw[\u001b[39m\"\u001b[39m\u001b[39mheaders\u001b[39m\u001b[39m\"\u001b[39m]\u001b[39m.\u001b[39mupdate(headers)\n\u001b[1;32m    168\u001b[0m extra_kw\u001b[39m.\u001b[39mupdate(urlopen_kw)\n\u001b[0;32m--> 170\u001b[0m \u001b[39mreturn\u001b[39;00m \u001b[39mself\u001b[39;49m\u001b[39m.\u001b[39;49murlopen(method, url, \u001b[39m*\u001b[39;49m\u001b[39m*\u001b[39;49mextra_kw)\n",
      "File \u001b[0;32m~/.pyenv/versions/dsc80_39/lib/python3.8/site-packages/urllib3/poolmanager.py:375\u001b[0m, in \u001b[0;36mPoolManager.urlopen\u001b[0;34m(self, method, url, redirect, **kw)\u001b[0m\n\u001b[1;32m    373\u001b[0m     response \u001b[39m=\u001b[39m conn\u001b[39m.\u001b[39murlopen(method, url, \u001b[39m*\u001b[39m\u001b[39m*\u001b[39mkw)\n\u001b[1;32m    374\u001b[0m \u001b[39melse\u001b[39;00m:\n\u001b[0;32m--> 375\u001b[0m     response \u001b[39m=\u001b[39m conn\u001b[39m.\u001b[39;49murlopen(method, u\u001b[39m.\u001b[39;49mrequest_uri, \u001b[39m*\u001b[39;49m\u001b[39m*\u001b[39;49mkw)\n\u001b[1;32m    377\u001b[0m redirect_location \u001b[39m=\u001b[39m redirect \u001b[39mand\u001b[39;00m response\u001b[39m.\u001b[39mget_redirect_location()\n\u001b[1;32m    378\u001b[0m \u001b[39mif\u001b[39;00m \u001b[39mnot\u001b[39;00m redirect_location:\n",
      "File \u001b[0;32m~/.pyenv/versions/dsc80_39/lib/python3.8/site-packages/urllib3/connectionpool.py:699\u001b[0m, in \u001b[0;36mHTTPConnectionPool.urlopen\u001b[0;34m(self, method, url, body, headers, retries, redirect, assert_same_host, timeout, pool_timeout, release_conn, chunked, body_pos, **response_kw)\u001b[0m\n\u001b[1;32m    696\u001b[0m     \u001b[39mself\u001b[39m\u001b[39m.\u001b[39m_prepare_proxy(conn)\n\u001b[1;32m    698\u001b[0m \u001b[39m# Make the request on the httplib connection object.\u001b[39;00m\n\u001b[0;32m--> 699\u001b[0m httplib_response \u001b[39m=\u001b[39m \u001b[39mself\u001b[39;49m\u001b[39m.\u001b[39;49m_make_request(\n\u001b[1;32m    700\u001b[0m     conn,\n\u001b[1;32m    701\u001b[0m     method,\n\u001b[1;32m    702\u001b[0m     url,\n\u001b[1;32m    703\u001b[0m     timeout\u001b[39m=\u001b[39;49mtimeout_obj,\n\u001b[1;32m    704\u001b[0m     body\u001b[39m=\u001b[39;49mbody,\n\u001b[1;32m    705\u001b[0m     headers\u001b[39m=\u001b[39;49mheaders,\n\u001b[1;32m    706\u001b[0m     chunked\u001b[39m=\u001b[39;49mchunked,\n\u001b[1;32m    707\u001b[0m )\n\u001b[1;32m    709\u001b[0m \u001b[39m# If we're going to release the connection in ``finally:``, then\u001b[39;00m\n\u001b[1;32m    710\u001b[0m \u001b[39m# the response doesn't need to know about the connection. Otherwise\u001b[39;00m\n\u001b[1;32m    711\u001b[0m \u001b[39m# it will also try to release it and we'll have a double-release\u001b[39;00m\n\u001b[1;32m    712\u001b[0m \u001b[39m# mess.\u001b[39;00m\n\u001b[1;32m    713\u001b[0m response_conn \u001b[39m=\u001b[39m conn \u001b[39mif\u001b[39;00m \u001b[39mnot\u001b[39;00m release_conn \u001b[39melse\u001b[39;00m \u001b[39mNone\u001b[39;00m\n",
      "File \u001b[0;32m~/.pyenv/versions/dsc80_39/lib/python3.8/site-packages/urllib3/connectionpool.py:445\u001b[0m, in \u001b[0;36mHTTPConnectionPool._make_request\u001b[0;34m(self, conn, method, url, timeout, chunked, **httplib_request_kw)\u001b[0m\n\u001b[1;32m    440\u001b[0m             httplib_response \u001b[39m=\u001b[39m conn\u001b[39m.\u001b[39mgetresponse()\n\u001b[1;32m    441\u001b[0m         \u001b[39mexcept\u001b[39;00m \u001b[39mBaseException\u001b[39;00m \u001b[39mas\u001b[39;00m e:\n\u001b[1;32m    442\u001b[0m             \u001b[39m# Remove the TypeError from the exception chain in\u001b[39;00m\n\u001b[1;32m    443\u001b[0m             \u001b[39m# Python 3 (including for exceptions like SystemExit).\u001b[39;00m\n\u001b[1;32m    444\u001b[0m             \u001b[39m# Otherwise it looks like a bug in the code.\u001b[39;00m\n\u001b[0;32m--> 445\u001b[0m             six\u001b[39m.\u001b[39;49mraise_from(e, \u001b[39mNone\u001b[39;49;00m)\n\u001b[1;32m    446\u001b[0m \u001b[39mexcept\u001b[39;00m (SocketTimeout, BaseSSLError, SocketError) \u001b[39mas\u001b[39;00m e:\n\u001b[1;32m    447\u001b[0m     \u001b[39mself\u001b[39m\u001b[39m.\u001b[39m_raise_timeout(err\u001b[39m=\u001b[39me, url\u001b[39m=\u001b[39murl, timeout_value\u001b[39m=\u001b[39mread_timeout)\n",
      "File \u001b[0;32m<string>:3\u001b[0m, in \u001b[0;36mraise_from\u001b[0;34m(value, from_value)\u001b[0m\n",
      "File \u001b[0;32m~/.pyenv/versions/dsc80_39/lib/python3.8/site-packages/urllib3/connectionpool.py:440\u001b[0m, in \u001b[0;36mHTTPConnectionPool._make_request\u001b[0;34m(self, conn, method, url, timeout, chunked, **httplib_request_kw)\u001b[0m\n\u001b[1;32m    437\u001b[0m \u001b[39mexcept\u001b[39;00m \u001b[39mTypeError\u001b[39;00m:\n\u001b[1;32m    438\u001b[0m     \u001b[39m# Python 3\u001b[39;00m\n\u001b[1;32m    439\u001b[0m     \u001b[39mtry\u001b[39;00m:\n\u001b[0;32m--> 440\u001b[0m         httplib_response \u001b[39m=\u001b[39m conn\u001b[39m.\u001b[39;49mgetresponse()\n\u001b[1;32m    441\u001b[0m     \u001b[39mexcept\u001b[39;00m \u001b[39mBaseException\u001b[39;00m \u001b[39mas\u001b[39;00m e:\n\u001b[1;32m    442\u001b[0m         \u001b[39m# Remove the TypeError from the exception chain in\u001b[39;00m\n\u001b[1;32m    443\u001b[0m         \u001b[39m# Python 3 (including for exceptions like SystemExit).\u001b[39;00m\n\u001b[1;32m    444\u001b[0m         \u001b[39m# Otherwise it looks like a bug in the code.\u001b[39;00m\n\u001b[1;32m    445\u001b[0m         six\u001b[39m.\u001b[39mraise_from(e, \u001b[39mNone\u001b[39;00m)\n",
      "File \u001b[0;32m~/.pyenv/versions/3.8.16/lib/python3.8/http/client.py:1348\u001b[0m, in \u001b[0;36mHTTPConnection.getresponse\u001b[0;34m(self)\u001b[0m\n\u001b[1;32m   1346\u001b[0m \u001b[39mtry\u001b[39;00m:\n\u001b[1;32m   1347\u001b[0m     \u001b[39mtry\u001b[39;00m:\n\u001b[0;32m-> 1348\u001b[0m         response\u001b[39m.\u001b[39;49mbegin()\n\u001b[1;32m   1349\u001b[0m     \u001b[39mexcept\u001b[39;00m \u001b[39mConnectionError\u001b[39;00m:\n\u001b[1;32m   1350\u001b[0m         \u001b[39mself\u001b[39m\u001b[39m.\u001b[39mclose()\n",
      "File \u001b[0;32m~/.pyenv/versions/3.8.16/lib/python3.8/http/client.py:316\u001b[0m, in \u001b[0;36mHTTPResponse.begin\u001b[0;34m(self)\u001b[0m\n\u001b[1;32m    314\u001b[0m \u001b[39m# read until we get a non-100 response\u001b[39;00m\n\u001b[1;32m    315\u001b[0m \u001b[39mwhile\u001b[39;00m \u001b[39mTrue\u001b[39;00m:\n\u001b[0;32m--> 316\u001b[0m     version, status, reason \u001b[39m=\u001b[39m \u001b[39mself\u001b[39;49m\u001b[39m.\u001b[39;49m_read_status()\n\u001b[1;32m    317\u001b[0m     \u001b[39mif\u001b[39;00m status \u001b[39m!=\u001b[39m CONTINUE:\n\u001b[1;32m    318\u001b[0m         \u001b[39mbreak\u001b[39;00m\n",
      "File \u001b[0;32m~/.pyenv/versions/3.8.16/lib/python3.8/http/client.py:277\u001b[0m, in \u001b[0;36mHTTPResponse._read_status\u001b[0;34m(self)\u001b[0m\n\u001b[1;32m    276\u001b[0m \u001b[39mdef\u001b[39;00m \u001b[39m_read_status\u001b[39m(\u001b[39mself\u001b[39m):\n\u001b[0;32m--> 277\u001b[0m     line \u001b[39m=\u001b[39m \u001b[39mstr\u001b[39m(\u001b[39mself\u001b[39;49m\u001b[39m.\u001b[39;49mfp\u001b[39m.\u001b[39;49mreadline(_MAXLINE \u001b[39m+\u001b[39;49m \u001b[39m1\u001b[39;49m), \u001b[39m\"\u001b[39m\u001b[39miso-8859-1\u001b[39m\u001b[39m\"\u001b[39m)\n\u001b[1;32m    278\u001b[0m     \u001b[39mif\u001b[39;00m \u001b[39mlen\u001b[39m(line) \u001b[39m>\u001b[39m _MAXLINE:\n\u001b[1;32m    279\u001b[0m         \u001b[39mraise\u001b[39;00m LineTooLong(\u001b[39m\"\u001b[39m\u001b[39mstatus line\u001b[39m\u001b[39m\"\u001b[39m)\n",
      "File \u001b[0;32m~/.pyenv/versions/3.8.16/lib/python3.8/socket.py:669\u001b[0m, in \u001b[0;36mSocketIO.readinto\u001b[0;34m(self, b)\u001b[0m\n\u001b[1;32m    667\u001b[0m \u001b[39mwhile\u001b[39;00m \u001b[39mTrue\u001b[39;00m:\n\u001b[1;32m    668\u001b[0m     \u001b[39mtry\u001b[39;00m:\n\u001b[0;32m--> 669\u001b[0m         \u001b[39mreturn\u001b[39;00m \u001b[39mself\u001b[39;49m\u001b[39m.\u001b[39;49m_sock\u001b[39m.\u001b[39;49mrecv_into(b)\n\u001b[1;32m    670\u001b[0m     \u001b[39mexcept\u001b[39;00m timeout:\n\u001b[1;32m    671\u001b[0m         \u001b[39mself\u001b[39m\u001b[39m.\u001b[39m_timeout_occurred \u001b[39m=\u001b[39m \u001b[39mTrue\u001b[39;00m\n",
      "\u001b[0;31mKeyboardInterrupt\u001b[0m: "
     ]
    }
   ],
   "source": [
    "# Attach to the first target\n",
    "target_id = \"3D2198FBAD98E0FC653069FA76C4B93F\"\n",
    "session_id = driver.execute_cdp_cmd('Target.attachToTarget', {'targetId': target_id})\n",
    "session_id"
   ]
  },
  {
   "cell_type": "code",
   "execution_count": 67,
   "metadata": {},
   "outputs": [
    {
     "data": {
      "text/plain": [
       "{'result': {'type': 'undefined'}}"
      ]
     },
     "execution_count": 67,
     "metadata": {},
     "output_type": "execute_result"
    }
   ],
   "source": [
    "# # Use the session ID to interact with the target\n",
    "driver.execute_cdp_cmd('Runtime.evaluate', {'expression': 'const asdf = \"UUUUOOOOOOGHHH!\"', 'userGesture': True, 'replMode': True})\n",
    "# https://chromedevtools.github.io/devtools-protocol/tot/Runtime/#method-evaluate\n",
    "# userGesture \n",
    "# response = driver.execute_cdp_cmd('Runtime.evaluate', {'expression': 'console.log(\"Hello, world!\")', 'contextId': 1, 'returnByValue': True, 'sessionId': session_id})"
   ]
  },
  {
   "cell_type": "code",
   "execution_count": 3,
   "metadata": {},
   "outputs": [],
   "source": [
    "import subprocess"
   ]
  },
  {
   "cell_type": "code",
   "execution_count": 6,
   "metadata": {},
   "outputs": [
    {
     "name": "stdout",
     "output_type": "stream",
     "text": [
      "const j = 123;\n",
      "\n",
      "\n"
     ]
    }
   ],
   "source": [
    "try:\n",
    "    # Call the script and capture the output\n",
    "    output = subprocess.check_output([\"ts-node\", \"angelina_kernel/misc/transpile.ts\", \"const j: string = 123;\"])\n",
    "\n",
    "    # Convert the output to a string\n",
    "    output_str = output.decode(\"utf-8\")\n",
    "\n",
    "    # Print the output string\n",
    "    print(output_str)\n",
    "except subprocess.CalledProcessError:\n",
    "    print(\"Subprocess error. Probably no ts string\")"
   ]
  }
 ],
 "metadata": {
  "kernelspec": {
   "display_name": "dsc80_39",
   "language": "python",
   "name": "python3"
  },
  "language_info": {
   "codemirror_mode": {
    "name": "ipython",
    "version": 3
   },
   "file_extension": ".py",
   "mimetype": "text/x-python",
   "name": "python",
   "nbconvert_exporter": "python",
   "pygments_lexer": "ipython3",
   "version": "3.8.16"
  },
  "orig_nbformat": 4
 },
 "nbformat": 4,
 "nbformat_minor": 2
}
