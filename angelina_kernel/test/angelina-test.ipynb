{
 "cells": [
  {
   "cell_type": "code",
   "execution_count": 2,
   "metadata": {
    "vscode": {
     "languageId": "plaintext"
    }
   },
   "outputs": [
    {
     "name": "stdout",
     "output_type": "stream",
     "text": [
      "00 - (2) 主页 / Twitter\n",
      "01 - PL_17-N_Unorganized - YouTube"
     ]
    }
   ],
   "source": [
    "%tabs"
   ]
  },
  {
   "cell_type": "code",
   "execution_count": 3,
   "metadata": {
    "vscode": {
     "languageId": "plaintext"
    }
   },
   "outputs": [
    {
     "name": "stdout",
     "output_type": "stream",
     "text": [
      "SWITCHED TO TAB: 0"
     ]
    }
   ],
   "source": [
    "%switch 0"
   ]
  },
  {
   "cell_type": "code",
   "execution_count": 4,
   "metadata": {
    "vscode": {
     "languageId": "javascript"
    }
   },
   "outputs": [
    {
     "name": "stdout",
     "output_type": "stream",
     "text": [
      "{'result': {'type': 'undefined'}}"
     ]
    }
   ],
   "source": [
    "const zcxv = \"1231\""
   ]
  },
  {
   "cell_type": "code",
   "execution_count": 8,
   "metadata": {
    "vscode": {
     "languageId": "typescript"
    }
   },
   "outputs": [
    {
     "name": "stdout",
     "output_type": "stream",
     "text": [
      "{'result': {'type': 'undefined'}}"
     ]
    }
   ],
   "source": [
    "// testing typescript\n",
    "// send to jupyter kernel as string and then transpiled to a string of javascript\n",
    "const qwer: string = \"123\""
   ]
  },
  {
   "cell_type": "code",
   "execution_count": 9,
   "metadata": {
    "vscode": {
     "languageId": "typescript"
    }
   },
   "outputs": [
    {
     "name": "stdout",
     "output_type": "stream",
     "text": [
      "{'result': {'type': 'string', 'value': '123'}}"
     ]
    }
   ],
   "source": [
    "qwer"
   ]
  },
  {
   "cell_type": "code",
   "execution_count": 10,
   "metadata": {
    "vscode": {
     "languageId": "javascript"
    }
   },
   "outputs": [
    {
     "name": "stdout",
     "output_type": "stream",
     "text": [
      "{'result': {'type': 'undefined'}}"
     ]
    }
   ],
   "source": [
    "console.log(\"sanity check\")\n",
    "// asdf\n",
    "function f1(thing) {\n",
    "    console.log(thing)\n",
    "}\n",
    "\n",
    "function f2(thing) {\n",
    "    console.log(thing)\n",
    "    return 1\n",
    "}\n",
    "\n",
    "const asdf = f2(\"something\")"
   ]
  },
  {
   "cell_type": "code",
   "execution_count": 11,
   "metadata": {
    "vscode": {
     "languageId": "javascript"
    }
   },
   "outputs": [
    {
     "name": "stdout",
     "output_type": "stream",
     "text": [
      "{'result': {'description': '1', 'type': 'number', 'value': 1}}"
     ]
    }
   ],
   "source": [
    "asdf"
   ]
  },
  {
   "cell_type": "code",
   "execution_count": 12,
   "metadata": {
    "vscode": {
     "languageId": "javascript"
    }
   },
   "outputs": [
    {
     "name": "stdout",
     "output_type": "stream",
     "text": [
      "{'result': {'type': 'undefined'}}"
     ]
    }
   ],
   "source": [
    "console.log(\"FUCK\")"
   ]
  }
 ],
 "metadata": {
  "kernelspec": {
   "display_name": "angelina_kernel",
   "language": "text",
   "name": "angelina_kernel"
  },
  "language_info": {
   "file_extension": ".js",
   "mimetype": "application/javascript",
   "name": "JavaScript"
  }
 },
 "nbformat": 4,
 "nbformat_minor": 2
}
