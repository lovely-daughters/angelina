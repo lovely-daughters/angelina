{
 "cells": [
  {
   "cell_type": "code",
   "execution_count": null,
   "metadata": {},
   "outputs": [],
   "source": [
    "# adf"
   ]
  }
 ],
 "metadata": {
  "kernelspec": {
   "display_name": "Echo",
   "language": "",
   "name": "echokernel"
  },
  "language_info": {
   "file_extension": ".txt",
   "mimetype": "text/plain",
   "name": "Any text"
  }
 },
 "nbformat": 4,
 "nbformat_minor": 2
}
