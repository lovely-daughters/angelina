{
 "cells": [
  {
   "cell_type": "code",
   "execution_count": 1,
   "metadata": {
    "vscode": {
     "languageId": "plaintext"
    }
   },
   "outputs": [
    {
     "name": "stdout",
     "output_type": "stream",
     "text": [
      "<class 'str'>"
     ]
    }
   ],
   "source": [
    "%type"
   ]
  },
  {
   "cell_type": "code",
   "execution_count": 2,
   "metadata": {
    "vscode": {
     "languageId": "plaintext"
    }
   },
   "outputs": [
    {
     "name": "stdout",
     "output_type": "stream",
     "text": [
      "['2F5BC886AFA77DC5CA472BBA352FFDDB', 'F84E8AD0715F7F7DB9715E72725E5A04']"
     ]
    }
   ],
   "source": [
    "%tabs"
   ]
  },
  {
   "cell_type": "code",
   "execution_count": 1,
   "metadata": {
    "vscode": {
     "languageId": "plaintext"
    }
   },
   "outputs": [
    {
     "name": "stdout",
     "output_type": "stream",
     "text": [
      "SWITCHED TO TAB: 1"
     ]
    }
   ],
   "source": [
    "%switch 1"
   ]
  },
  {
   "cell_type": "code",
   "execution_count": 1,
   "metadata": {
    "vscode": {
     "languageId": "javascript"
    }
   },
   "outputs": [
    {
     "name": "stdout",
     "output_type": "stream",
     "text": [
      "None"
     ]
    }
   ],
   "source": [
    "console.log(\"sanity check\")\n",
    "// asdf\n",
    "function f1(thing) {\n",
    "    console.log(thing)\n",
    "}\n",
    "\n",
    "function f2(thing) {\n",
    "    console.log(thing)\n",
    "    return 1\n",
    "}\n",
    "\n",
    "const asdf = f2(\"something\")"
   ]
  },
  {
   "cell_type": "code",
   "execution_count": 2,
   "metadata": {
    "vscode": {
     "languageId": "javascript"
    }
   },
   "outputs": [
    {
     "name": "stdout",
     "output_type": "stream",
     "text": [
      "😭 0"
     ]
    }
   ],
   "source": [
    "console.log(\"FUCK\")"
   ]
  }
 ],
 "metadata": {
  "kernelspec": {
   "display_name": "Angelina",
   "language": "text",
   "name": "angelina"
  },
  "language_info": {
   "file_extension": ".js",
   "mimetype": "application/javascript",
   "name": "JavaScript"
  }
 },
 "nbformat": 4,
 "nbformat_minor": 2
}
