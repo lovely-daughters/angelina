{
 "cells": [
  {
   "cell_type": "code",
   "execution_count": 2,
   "metadata": {
    "vscode": {
     "languageId": "plaintext"
    }
   },
   "outputs": [
    {
     "name": "stdout",
     "output_type": "stream",
     "text": [
      "['31FEDA8FA700AD4C2F4745264C1888D6',\n",
      " '9F5807CEDA4A076D116B1E11F78D9E8B',\n",
      " 'BC083DF38BB9B387A366C50796CCEBEE',\n",
      " '777A985A7348959C2FC137281017626E',\n",
      " '2F5BC886AFA77DC5CA472BBA352FFDDB',\n",
      " 'F84E8AD0715F7F7DB9715E72725E5A04']"
     ]
    }
   ],
   "source": [
    "%tabs"
   ]
  },
  {
   "cell_type": "code",
   "execution_count": 5,
   "metadata": {
    "vscode": {
     "languageId": "plaintext"
    }
   },
   "outputs": [
    {
     "name": "stdout",
     "output_type": "stream",
     "text": [
      "SWITCHED TO TAB: 1"
     ]
    }
   ],
   "source": [
    "%switch 1"
   ]
  },
  {
   "cell_type": "code",
   "execution_count": 2,
   "metadata": {
    "vscode": {
     "languageId": "typescript"
    }
   },
   "outputs": [
    {
     "name": "stdout",
     "output_type": "stream",
     "text": [
      "{'result': {'type': 'undefined'}}"
     ]
    }
   ],
   "source": [
    "// testing typescript\n",
    "// send to jupyter kernel as string and then transpiled to a string of javascript\n",
    "const qwer: string = \"123\""
   ]
  },
  {
   "cell_type": "code",
   "execution_count": 1,
   "metadata": {
    "vscode": {
     "languageId": "javascript"
    }
   },
   "outputs": [
    {
     "name": "stdout",
     "output_type": "stream",
     "text": [
      "{'result': {'type': 'undefined'}}"
     ]
    }
   ],
   "source": [
    "console.log(\"sanity check\")\n",
    "// asdf\n",
    "function f1(thing) {\n",
    "    console.log(thing)\n",
    "}\n",
    "\n",
    "function f2(thing) {\n",
    "    console.log(thing)\n",
    "    return 1\n",
    "}\n",
    "\n",
    "const asdf = f2(\"something\")"
   ]
  },
  {
   "cell_type": "code",
   "execution_count": 7,
   "metadata": {
    "vscode": {
     "languageId": "javascript"
    }
   },
   "outputs": [
    {
     "name": "stdout",
     "output_type": "stream",
     "text": [
      "{'result': {'description': '1', 'type': 'number', 'value': 1}}"
     ]
    }
   ],
   "source": [
    "asdf"
   ]
  },
  {
   "cell_type": "code",
   "execution_count": 2,
   "metadata": {
    "vscode": {
     "languageId": "javascript"
    }
   },
   "outputs": [
    {
     "name": "stdout",
     "output_type": "stream",
     "text": [
      "😭 0"
     ]
    }
   ],
   "source": [
    "console.log(\"FUCK\")"
   ]
  }
 ],
 "metadata": {
  "kernelspec": {
   "display_name": "Angelina",
   "language": "text",
   "name": "angelina"
  },
  "language_info": {
   "file_extension": ".js",
   "mimetype": "application/javascript",
   "name": "JavaScript"
  }
 },
 "nbformat": 4,
 "nbformat_minor": 2
}
